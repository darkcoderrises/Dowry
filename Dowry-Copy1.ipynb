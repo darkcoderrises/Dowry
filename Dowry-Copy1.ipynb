{
 "cells": [
  {
   "cell_type": "code",
   "execution_count": 86,
   "metadata": {},
   "outputs": [],
   "source": [
    "import numpy as np\n",
    "import re\n",
    "import sys\n",
    "from scipy.stats import chi2_contingency as chi\n",
    "from nltk.corpus import stopwords"
   ]
  },
  {
   "cell_type": "code",
   "execution_count": 88,
   "metadata": {},
   "outputs": [],
   "source": [
    "reader = lambda i : filter(bool, open(i).read().split('\\n'))\n",
    "file_in = reader('in')\n",
    "words_list = reader('in2')\n",
    "\n",
    "stop = set(stopwords.words('english'))\n",
    "words_stopless = np.asarray(filter(lambda i: i not in stop, words_list))"
   ]
  },
  {
   "cell_type": "code",
   "execution_count": 4,
   "metadata": {
    "collapsed": true
   },
   "outputs": [],
   "source": [
    "matrix = np.zeros((len(file_in), len(words_list)))"
   ]
  },
  {
   "cell_type": "code",
   "execution_count": 5,
   "metadata": {
    "collapsed": true
   },
   "outputs": [],
   "source": [
    "def filter_file(file_content):\n",
    "    regex = re.compile('[^a-zA-Z]')\n",
    "    file_content = file_content.replace('\\r', ' ').lower()\n",
    "    return regex.sub(' ', file_content)"
   ]
  },
  {
   "cell_type": "code",
   "execution_count": 6,
   "metadata": {
    "collapsed": true
   },
   "outputs": [],
   "source": [
    "def count(file_content, word):\n",
    "    file_content = filter_file(file_content)\n",
    "    return sum(1 for _ in re.finditer(r'\\b%s\\b' % re.escape(' '+word+' '), file_content))"
   ]
  },
  {
   "cell_type": "code",
   "execution_count": 8,
   "metadata": {},
   "outputs": [
    {
     "name": "stdout",
     "output_type": "stream",
     "text": [
      "99.9531615925 %   \r"
     ]
    }
   ],
   "source": [
    "for i, file_name in enumerate(file_in):\n",
    "    sys.stdout.flush()\n",
    "    print 100*float(i)/len(file_in), '%', '\\r', \n",
    "    \n",
    "    for j, word in enumerate(words_list):\n",
    "        file_content = open(unicode(file_name)).read()\n",
    "        matrix[i][j] = count(file_content, word)"
   ]
  },
  {
   "cell_type": "code",
   "execution_count": 11,
   "metadata": {},
   "outputs": [],
   "source": [
    "matrix = np.asarray(matrix, dtype=np.float32)\n",
    "norm_matrix = matrix / (matrix.sum(axis=0)+0.0001)"
   ]
  },
  {
   "cell_type": "code",
   "execution_count": 75,
   "metadata": {
    "collapsed": true
   },
   "outputs": [],
   "source": [
    "def return_similarity(ind1, ind2):\n",
    "    vect1 = norm_matrix[:,ind1]\n",
    "    vect2 = norm_matrix[:,ind2]\n",
    "    inds = np.where(np.logical_or(vect1>0, vect2>0))\n",
    "    \n",
    "    return np.linalg.norm(vect1[inds]-vect2[inds])"
   ]
  },
  {
   "cell_type": "code",
   "execution_count": 145,
   "metadata": {
    "collapsed": true
   },
   "outputs": [],
   "source": [
    "def get_similar_to(search_word):\n",
    "    vals = []\n",
    "    search_ind = words_list.index(search_word)\n",
    "    \n",
    "    for word in words_stopless:\n",
    "        value = return_similarity(search_ind, words_list.index(word))\n",
    "        vals.append(value)\n",
    "    \n",
    "    vals = np.asarray(vals)\n",
    "    inds = vals.argsort()\n",
    "\n",
    "    return np.asarray(words_stopless)[inds[1:200]]"
   ]
  },
  {
   "cell_type": "code",
   "execution_count": 146,
   "metadata": {},
   "outputs": [
    {
     "name": "stdout",
     "output_type": "stream",
     "text": [
      "0.111385\n"
     ]
    }
   ],
   "source": [
    "print return_similarity(words_list.index(\"died\"), words_list.index(\"sister\"))"
   ]
  },
  {
   "cell_type": "code",
   "execution_count": 147,
   "metadata": {
    "scrolled": false
   },
   "outputs": [
    {
     "data": {
      "text/plain": [
       "array(['criminal', 'offences', 'settled', 'quashing', 'compromise',\n",
       "       'abuse', 'proceedings', 'settlement', 'offender', 'ends', 'emerges',\n",
       "       'matter', 'proceeding', 'justice', 'honourable', 'continuation',\n",
       "       'parties', 'engrafted', 'public', 'crime', 'process', 'case',\n",
       "       'different', 'nature', 'flavour', 'day', 'prosecutor', 'basis',\n",
       "       'bleak', 'remote', 'oppression', 'basically', 'resolved',\n",
       "       'summarised', 'dispute', 'judicial', 'private', 'arising', 'court',\n",
       "       'power', 'injustice', 'exercised', 'class', 'kerala', 'great',\n",
       "       'proceed', 'plenitude', 'personal', 'pending', 'gian', 'facts',\n",
       "       'stand', 'arrived', 'allowing', 'accord', 'footing', 'wide',\n",
       "       'transactions', 'exercise', 'dominatingly', 'petitioners',\n",
       "       'counsel', 'prejudice', 'category', 'submitted', 'like',\n",
       "       'affidavit', 'cases', 'conviction', 'crl', 'filed', 'pendency',\n",
       "       'interest', 'entire', 'matrimony', 'learned', 'babita',\n",
       "       \"respondents'\", 'station]', 'kld', 'd/o', 'moreover', 'klt', 'skj',\n",
       "       \"singh's\", '&amp;', 'ashadha', '\"the', '/th', 'prv', 'december',\n",
       "       'hyma', \"petitioners'\", 'dist', \"respondent's\", '/complainant',\n",
       "       'report/charge', 'injured/victim/defacto', \"'cr\", 'sd/', 'jyaishta',\n",
       "       'appellants/accused', 'kss', 'copy//', '[see', '//true', 'w/o',\n",
       "       'sts', 'respondents/state', 'u/s', 'phalguna', 's/o', 'mercandile',\n",
       "       \"hon'ble\", '/state', 'viz', '/true', 'copy/', \"raghuvanshi's\",\n",
       "       'mercantile', 'case/crime', 'october', 'vdv', 'accused/appellants',\n",
       "       'petitioner/accused', 'aswina', '/st', '/accused', 'ami/',\n",
       "       \"petitioner's\", 'respondent/complainant', \"magistrate's\", 'dtd',\n",
       "       'august', 'ald', 'sec', 'msd', 'respondents/complainant', 'etc;',\n",
       "       'magha', 'order/judgment', 'complainant/victim/injured', '[in',\n",
       "       'bhavadasan', 'accused/appellant', 'respondent/de',\n",
       "       'respondent/husband', '/rd', 'r/w', 'petitioners/accused',\n",
       "       \"victim's\", '/nd', 'chaithra', 'respondent/',\n",
       "       'compromise/settlement', 'viz;', 'file', 'station', 'report',\n",
       "       'allowed', 'light', 'circumstances', 'would', 'complete',\n",
       "       'possibility', 'extreme', 'grievance', 'carefully', 'promote',\n",
       "       'guideline', 'amicably', 'disputes', 'note', 'magistrate', 'copy',\n",
       "       'sheer', 'event', 'position', 'duty', 'passed', 'come', 'view',\n",
       "       'depend', 'objection', 'fir', 'pertinent', 'high', 'secure', 'laid',\n",
       "       'well', 'prayer', 'dictum', 'intend', 'compelling', 'purposes',\n",
       "       'annexure', 'distinct', 'complainant', 'though'], \n",
       "      dtype='|S26')"
      ]
     },
     "execution_count": 147,
     "metadata": {},
     "output_type": "execute_result"
    }
   ],
   "source": [
    "get_similar_to('quash')"
   ]
  },
  {
   "cell_type": "code",
   "execution_count": null,
   "metadata": {
    "collapsed": true
   },
   "outputs": [],
   "source": [
    " "
   ]
  }
 ],
 "metadata": {
  "kernelspec": {
   "display_name": "Python 2",
   "language": "python",
   "name": "python2"
  },
  "language_info": {
   "codemirror_mode": {
    "name": "ipython",
    "version": 2
   },
   "file_extension": ".py",
   "mimetype": "text/x-python",
   "name": "python",
   "nbconvert_exporter": "python",
   "pygments_lexer": "ipython2",
   "version": "2.7.12"
  }
 },
 "nbformat": 4,
 "nbformat_minor": 2
}
